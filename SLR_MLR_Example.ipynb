{
 "cells": [
  {
   "cell_type": "markdown",
   "id": "5808e646",
   "metadata": {},
   "source": [
    "## CASchools Predicting score based on student teacher ratio"
   ]
  },
  {
   "cell_type": "markdown",
   "id": "6279235c",
   "metadata": {},
   "source": [
    "This notebook provides an example of how ML algorithm(Regression) can be used to predict score of a school of a particular district using various variables. \n",
    "\n",
    "Let's say you want to understand how many teachers you need to have for each school in order to improve average score of the school. In other words, what should be minimum/optimum class size that can help achieve good score. "
   ]
  },
  {
   "cell_type": "markdown",
   "id": "ce8c0405",
   "metadata": {},
   "source": [
    "For CASchools MetaData Information\n",
    "\n",
    "https://rdrr.io/cran/AER/man/CASchools.html"
   ]
  },
  {
   "cell_type": "markdown",
   "id": "dbd8a229",
   "metadata": {},
   "source": [
    "## Import Packages"
   ]
  },
  {
   "cell_type": "code",
   "execution_count": 11,
   "id": "930c46ec",
   "metadata": {},
   "outputs": [],
   "source": [
    "import pandas as pd\n",
    "import numpy as np\n",
    "import matplotlib.pyplot as plt\n",
    "%matplotlib inline\n",
    "\n",
    "import statsmodels.api as sm\n",
    "import statsmodels.formula.api as smf"
   ]
  },
  {
   "cell_type": "markdown",
   "id": "48430f50",
   "metadata": {},
   "source": [
    "## Read Data"
   ]
  },
  {
   "cell_type": "code",
   "execution_count": 6,
   "id": "0cb6631a",
   "metadata": {},
   "outputs": [
    {
     "data": {
      "text/html": [
       "<div>\n",
       "<style scoped>\n",
       "    .dataframe tbody tr th:only-of-type {\n",
       "        vertical-align: middle;\n",
       "    }\n",
       "\n",
       "    .dataframe tbody tr th {\n",
       "        vertical-align: top;\n",
       "    }\n",
       "\n",
       "    .dataframe thead th {\n",
       "        text-align: right;\n",
       "    }\n",
       "</style>\n",
       "<table border=\"1\" class=\"dataframe\">\n",
       "  <thead>\n",
       "    <tr style=\"text-align: right;\">\n",
       "      <th></th>\n",
       "      <th>district</th>\n",
       "      <th>school</th>\n",
       "      <th>county</th>\n",
       "      <th>grades</th>\n",
       "      <th>students</th>\n",
       "      <th>teachers</th>\n",
       "      <th>calworks</th>\n",
       "      <th>lunch</th>\n",
       "      <th>computer</th>\n",
       "      <th>expenditure</th>\n",
       "      <th>income</th>\n",
       "      <th>english</th>\n",
       "      <th>read</th>\n",
       "      <th>math</th>\n",
       "    </tr>\n",
       "  </thead>\n",
       "  <tbody>\n",
       "    <tr>\n",
       "      <th>1</th>\n",
       "      <td>75119</td>\n",
       "      <td>Sunol Glen Unified</td>\n",
       "      <td>Alameda</td>\n",
       "      <td>KK-08</td>\n",
       "      <td>195</td>\n",
       "      <td>10.900000</td>\n",
       "      <td>0.510200</td>\n",
       "      <td>2.040800</td>\n",
       "      <td>67</td>\n",
       "      <td>6384.911133</td>\n",
       "      <td>22.690001</td>\n",
       "      <td>0.000000</td>\n",
       "      <td>691.599976</td>\n",
       "      <td>690.000000</td>\n",
       "    </tr>\n",
       "    <tr>\n",
       "      <th>2</th>\n",
       "      <td>61499</td>\n",
       "      <td>Manzanita Elementary</td>\n",
       "      <td>Butte</td>\n",
       "      <td>KK-08</td>\n",
       "      <td>240</td>\n",
       "      <td>11.150000</td>\n",
       "      <td>15.416700</td>\n",
       "      <td>47.916698</td>\n",
       "      <td>101</td>\n",
       "      <td>5099.380859</td>\n",
       "      <td>9.824000</td>\n",
       "      <td>4.583333</td>\n",
       "      <td>660.500000</td>\n",
       "      <td>661.900024</td>\n",
       "    </tr>\n",
       "    <tr>\n",
       "      <th>3</th>\n",
       "      <td>61549</td>\n",
       "      <td>Thermalito Union Elementary</td>\n",
       "      <td>Butte</td>\n",
       "      <td>KK-08</td>\n",
       "      <td>1550</td>\n",
       "      <td>82.900002</td>\n",
       "      <td>55.032299</td>\n",
       "      <td>76.322601</td>\n",
       "      <td>169</td>\n",
       "      <td>5501.954590</td>\n",
       "      <td>8.978000</td>\n",
       "      <td>30.000002</td>\n",
       "      <td>636.299988</td>\n",
       "      <td>650.900024</td>\n",
       "    </tr>\n",
       "    <tr>\n",
       "      <th>4</th>\n",
       "      <td>61457</td>\n",
       "      <td>Golden Feather Union Elementary</td>\n",
       "      <td>Butte</td>\n",
       "      <td>KK-08</td>\n",
       "      <td>243</td>\n",
       "      <td>14.000000</td>\n",
       "      <td>36.475399</td>\n",
       "      <td>77.049202</td>\n",
       "      <td>85</td>\n",
       "      <td>7101.831055</td>\n",
       "      <td>8.978000</td>\n",
       "      <td>0.000000</td>\n",
       "      <td>651.900024</td>\n",
       "      <td>643.500000</td>\n",
       "    </tr>\n",
       "    <tr>\n",
       "      <th>5</th>\n",
       "      <td>61523</td>\n",
       "      <td>Palermo Union Elementary</td>\n",
       "      <td>Butte</td>\n",
       "      <td>KK-08</td>\n",
       "      <td>1335</td>\n",
       "      <td>71.500000</td>\n",
       "      <td>33.108601</td>\n",
       "      <td>78.427002</td>\n",
       "      <td>171</td>\n",
       "      <td>5235.987793</td>\n",
       "      <td>9.080333</td>\n",
       "      <td>13.857677</td>\n",
       "      <td>641.799988</td>\n",
       "      <td>639.900024</td>\n",
       "    </tr>\n",
       "    <tr>\n",
       "      <th>...</th>\n",
       "      <td>...</td>\n",
       "      <td>...</td>\n",
       "      <td>...</td>\n",
       "      <td>...</td>\n",
       "      <td>...</td>\n",
       "      <td>...</td>\n",
       "      <td>...</td>\n",
       "      <td>...</td>\n",
       "      <td>...</td>\n",
       "      <td>...</td>\n",
       "      <td>...</td>\n",
       "      <td>...</td>\n",
       "      <td>...</td>\n",
       "      <td>...</td>\n",
       "    </tr>\n",
       "    <tr>\n",
       "      <th>416</th>\n",
       "      <td>68957</td>\n",
       "      <td>Las Lomitas Elementary</td>\n",
       "      <td>San Mateo</td>\n",
       "      <td>KK-08</td>\n",
       "      <td>984</td>\n",
       "      <td>59.730000</td>\n",
       "      <td>0.101600</td>\n",
       "      <td>3.556900</td>\n",
       "      <td>195</td>\n",
       "      <td>7290.338867</td>\n",
       "      <td>28.716999</td>\n",
       "      <td>5.995935</td>\n",
       "      <td>700.900024</td>\n",
       "      <td>707.700012</td>\n",
       "    </tr>\n",
       "    <tr>\n",
       "      <th>417</th>\n",
       "      <td>69518</td>\n",
       "      <td>Los Altos Elementary</td>\n",
       "      <td>Santa Clara</td>\n",
       "      <td>KK-08</td>\n",
       "      <td>3724</td>\n",
       "      <td>208.479996</td>\n",
       "      <td>1.074100</td>\n",
       "      <td>1.503800</td>\n",
       "      <td>721</td>\n",
       "      <td>5741.462891</td>\n",
       "      <td>41.734108</td>\n",
       "      <td>4.726101</td>\n",
       "      <td>704.000000</td>\n",
       "      <td>709.500000</td>\n",
       "    </tr>\n",
       "    <tr>\n",
       "      <th>418</th>\n",
       "      <td>72611</td>\n",
       "      <td>Somis Union Elementary</td>\n",
       "      <td>Ventura</td>\n",
       "      <td>KK-08</td>\n",
       "      <td>441</td>\n",
       "      <td>20.150000</td>\n",
       "      <td>3.563500</td>\n",
       "      <td>37.193802</td>\n",
       "      <td>45</td>\n",
       "      <td>4402.831543</td>\n",
       "      <td>23.733000</td>\n",
       "      <td>24.263039</td>\n",
       "      <td>648.299988</td>\n",
       "      <td>641.700012</td>\n",
       "    </tr>\n",
       "    <tr>\n",
       "      <th>419</th>\n",
       "      <td>72744</td>\n",
       "      <td>Plumas Elementary</td>\n",
       "      <td>Yuba</td>\n",
       "      <td>KK-08</td>\n",
       "      <td>101</td>\n",
       "      <td>5.000000</td>\n",
       "      <td>11.881200</td>\n",
       "      <td>59.405899</td>\n",
       "      <td>14</td>\n",
       "      <td>4776.336426</td>\n",
       "      <td>9.952000</td>\n",
       "      <td>2.970297</td>\n",
       "      <td>667.900024</td>\n",
       "      <td>676.500000</td>\n",
       "    </tr>\n",
       "    <tr>\n",
       "      <th>420</th>\n",
       "      <td>72751</td>\n",
       "      <td>Wheatland Elementary</td>\n",
       "      <td>Yuba</td>\n",
       "      <td>KK-08</td>\n",
       "      <td>1778</td>\n",
       "      <td>93.400002</td>\n",
       "      <td>6.923500</td>\n",
       "      <td>47.571201</td>\n",
       "      <td>313</td>\n",
       "      <td>5993.392578</td>\n",
       "      <td>12.502000</td>\n",
       "      <td>5.005624</td>\n",
       "      <td>660.500000</td>\n",
       "      <td>651.000000</td>\n",
       "    </tr>\n",
       "  </tbody>\n",
       "</table>\n",
       "<p>420 rows × 14 columns</p>\n",
       "</div>"
      ],
      "text/plain": [
       "     district                           school       county grades  students  \\\n",
       "1       75119               Sunol Glen Unified      Alameda  KK-08       195   \n",
       "2       61499             Manzanita Elementary        Butte  KK-08       240   \n",
       "3       61549      Thermalito Union Elementary        Butte  KK-08      1550   \n",
       "4       61457  Golden Feather Union Elementary        Butte  KK-08       243   \n",
       "5       61523         Palermo Union Elementary        Butte  KK-08      1335   \n",
       "..        ...                              ...          ...    ...       ...   \n",
       "416     68957           Las Lomitas Elementary    San Mateo  KK-08       984   \n",
       "417     69518             Los Altos Elementary  Santa Clara  KK-08      3724   \n",
       "418     72611           Somis Union Elementary      Ventura  KK-08       441   \n",
       "419     72744                Plumas Elementary         Yuba  KK-08       101   \n",
       "420     72751             Wheatland Elementary         Yuba  KK-08      1778   \n",
       "\n",
       "       teachers   calworks      lunch  computer  expenditure     income  \\\n",
       "1     10.900000   0.510200   2.040800        67  6384.911133  22.690001   \n",
       "2     11.150000  15.416700  47.916698       101  5099.380859   9.824000   \n",
       "3     82.900002  55.032299  76.322601       169  5501.954590   8.978000   \n",
       "4     14.000000  36.475399  77.049202        85  7101.831055   8.978000   \n",
       "5     71.500000  33.108601  78.427002       171  5235.987793   9.080333   \n",
       "..          ...        ...        ...       ...          ...        ...   \n",
       "416   59.730000   0.101600   3.556900       195  7290.338867  28.716999   \n",
       "417  208.479996   1.074100   1.503800       721  5741.462891  41.734108   \n",
       "418   20.150000   3.563500  37.193802        45  4402.831543  23.733000   \n",
       "419    5.000000  11.881200  59.405899        14  4776.336426   9.952000   \n",
       "420   93.400002   6.923500  47.571201       313  5993.392578  12.502000   \n",
       "\n",
       "       english        read        math  \n",
       "1     0.000000  691.599976  690.000000  \n",
       "2     4.583333  660.500000  661.900024  \n",
       "3    30.000002  636.299988  650.900024  \n",
       "4     0.000000  651.900024  643.500000  \n",
       "5    13.857677  641.799988  639.900024  \n",
       "..         ...         ...         ...  \n",
       "416   5.995935  700.900024  707.700012  \n",
       "417   4.726101  704.000000  709.500000  \n",
       "418  24.263039  648.299988  641.700012  \n",
       "419   2.970297  667.900024  676.500000  \n",
       "420   5.005624  660.500000  651.000000  \n",
       "\n",
       "[420 rows x 14 columns]"
      ]
     },
     "execution_count": 6,
     "metadata": {},
     "output_type": "execute_result"
    }
   ],
   "source": [
    "caschools_dat = pd.read_csv('/Users/pallavichandra/Desktop/Rprojects/data/CASchools.csv', index_col = 0)\n",
    "\n",
    "caschools_dat"
   ]
  },
  {
   "cell_type": "markdown",
   "id": "e881463f",
   "metadata": {},
   "source": [
    "## Effect of student teacher ratio on score"
   ]
  },
  {
   "cell_type": "markdown",
   "id": "e2aa308d",
   "metadata": {},
   "source": [
    "### Create features/independent variables of our interest"
   ]
  },
  {
   "cell_type": "code",
   "execution_count": 24,
   "id": "713b9939",
   "metadata": {},
   "outputs": [
    {
     "data": {
      "text/html": [
       "<div>\n",
       "<style scoped>\n",
       "    .dataframe tbody tr th:only-of-type {\n",
       "        vertical-align: middle;\n",
       "    }\n",
       "\n",
       "    .dataframe tbody tr th {\n",
       "        vertical-align: top;\n",
       "    }\n",
       "\n",
       "    .dataframe thead th {\n",
       "        text-align: right;\n",
       "    }\n",
       "</style>\n",
       "<table border=\"1\" class=\"dataframe\">\n",
       "  <thead>\n",
       "    <tr style=\"text-align: right;\">\n",
       "      <th></th>\n",
       "      <th>district</th>\n",
       "      <th>school</th>\n",
       "      <th>county</th>\n",
       "      <th>grades</th>\n",
       "      <th>students</th>\n",
       "      <th>teachers</th>\n",
       "      <th>calworks</th>\n",
       "      <th>lunch</th>\n",
       "      <th>computer</th>\n",
       "      <th>expenditure</th>\n",
       "      <th>income</th>\n",
       "      <th>english</th>\n",
       "      <th>read</th>\n",
       "      <th>math</th>\n",
       "      <th>stratio</th>\n",
       "      <th>score</th>\n",
       "    </tr>\n",
       "  </thead>\n",
       "  <tbody>\n",
       "    <tr>\n",
       "      <th>1</th>\n",
       "      <td>75119</td>\n",
       "      <td>Sunol Glen Unified</td>\n",
       "      <td>Alameda</td>\n",
       "      <td>KK-08</td>\n",
       "      <td>195</td>\n",
       "      <td>10.900000</td>\n",
       "      <td>0.510200</td>\n",
       "      <td>2.040800</td>\n",
       "      <td>67</td>\n",
       "      <td>6384.911133</td>\n",
       "      <td>22.690001</td>\n",
       "      <td>0.000000</td>\n",
       "      <td>691.599976</td>\n",
       "      <td>690.000000</td>\n",
       "      <td>17.889909</td>\n",
       "      <td>690.799988</td>\n",
       "    </tr>\n",
       "    <tr>\n",
       "      <th>2</th>\n",
       "      <td>61499</td>\n",
       "      <td>Manzanita Elementary</td>\n",
       "      <td>Butte</td>\n",
       "      <td>KK-08</td>\n",
       "      <td>240</td>\n",
       "      <td>11.150000</td>\n",
       "      <td>15.416700</td>\n",
       "      <td>47.916698</td>\n",
       "      <td>101</td>\n",
       "      <td>5099.380859</td>\n",
       "      <td>9.824000</td>\n",
       "      <td>4.583333</td>\n",
       "      <td>660.500000</td>\n",
       "      <td>661.900024</td>\n",
       "      <td>21.524664</td>\n",
       "      <td>661.200012</td>\n",
       "    </tr>\n",
       "    <tr>\n",
       "      <th>3</th>\n",
       "      <td>61549</td>\n",
       "      <td>Thermalito Union Elementary</td>\n",
       "      <td>Butte</td>\n",
       "      <td>KK-08</td>\n",
       "      <td>1550</td>\n",
       "      <td>82.900002</td>\n",
       "      <td>55.032299</td>\n",
       "      <td>76.322601</td>\n",
       "      <td>169</td>\n",
       "      <td>5501.954590</td>\n",
       "      <td>8.978000</td>\n",
       "      <td>30.000002</td>\n",
       "      <td>636.299988</td>\n",
       "      <td>650.900024</td>\n",
       "      <td>18.697225</td>\n",
       "      <td>643.600006</td>\n",
       "    </tr>\n",
       "    <tr>\n",
       "      <th>4</th>\n",
       "      <td>61457</td>\n",
       "      <td>Golden Feather Union Elementary</td>\n",
       "      <td>Butte</td>\n",
       "      <td>KK-08</td>\n",
       "      <td>243</td>\n",
       "      <td>14.000000</td>\n",
       "      <td>36.475399</td>\n",
       "      <td>77.049202</td>\n",
       "      <td>85</td>\n",
       "      <td>7101.831055</td>\n",
       "      <td>8.978000</td>\n",
       "      <td>0.000000</td>\n",
       "      <td>651.900024</td>\n",
       "      <td>643.500000</td>\n",
       "      <td>17.357143</td>\n",
       "      <td>647.700012</td>\n",
       "    </tr>\n",
       "    <tr>\n",
       "      <th>5</th>\n",
       "      <td>61523</td>\n",
       "      <td>Palermo Union Elementary</td>\n",
       "      <td>Butte</td>\n",
       "      <td>KK-08</td>\n",
       "      <td>1335</td>\n",
       "      <td>71.500000</td>\n",
       "      <td>33.108601</td>\n",
       "      <td>78.427002</td>\n",
       "      <td>171</td>\n",
       "      <td>5235.987793</td>\n",
       "      <td>9.080333</td>\n",
       "      <td>13.857677</td>\n",
       "      <td>641.799988</td>\n",
       "      <td>639.900024</td>\n",
       "      <td>18.671329</td>\n",
       "      <td>640.850006</td>\n",
       "    </tr>\n",
       "    <tr>\n",
       "      <th>...</th>\n",
       "      <td>...</td>\n",
       "      <td>...</td>\n",
       "      <td>...</td>\n",
       "      <td>...</td>\n",
       "      <td>...</td>\n",
       "      <td>...</td>\n",
       "      <td>...</td>\n",
       "      <td>...</td>\n",
       "      <td>...</td>\n",
       "      <td>...</td>\n",
       "      <td>...</td>\n",
       "      <td>...</td>\n",
       "      <td>...</td>\n",
       "      <td>...</td>\n",
       "      <td>...</td>\n",
       "      <td>...</td>\n",
       "    </tr>\n",
       "    <tr>\n",
       "      <th>416</th>\n",
       "      <td>68957</td>\n",
       "      <td>Las Lomitas Elementary</td>\n",
       "      <td>San Mateo</td>\n",
       "      <td>KK-08</td>\n",
       "      <td>984</td>\n",
       "      <td>59.730000</td>\n",
       "      <td>0.101600</td>\n",
       "      <td>3.556900</td>\n",
       "      <td>195</td>\n",
       "      <td>7290.338867</td>\n",
       "      <td>28.716999</td>\n",
       "      <td>5.995935</td>\n",
       "      <td>700.900024</td>\n",
       "      <td>707.700012</td>\n",
       "      <td>16.474134</td>\n",
       "      <td>704.300018</td>\n",
       "    </tr>\n",
       "    <tr>\n",
       "      <th>417</th>\n",
       "      <td>69518</td>\n",
       "      <td>Los Altos Elementary</td>\n",
       "      <td>Santa Clara</td>\n",
       "      <td>KK-08</td>\n",
       "      <td>3724</td>\n",
       "      <td>208.479996</td>\n",
       "      <td>1.074100</td>\n",
       "      <td>1.503800</td>\n",
       "      <td>721</td>\n",
       "      <td>5741.462891</td>\n",
       "      <td>41.734108</td>\n",
       "      <td>4.726101</td>\n",
       "      <td>704.000000</td>\n",
       "      <td>709.500000</td>\n",
       "      <td>17.862625</td>\n",
       "      <td>706.750000</td>\n",
       "    </tr>\n",
       "    <tr>\n",
       "      <th>418</th>\n",
       "      <td>72611</td>\n",
       "      <td>Somis Union Elementary</td>\n",
       "      <td>Ventura</td>\n",
       "      <td>KK-08</td>\n",
       "      <td>441</td>\n",
       "      <td>20.150000</td>\n",
       "      <td>3.563500</td>\n",
       "      <td>37.193802</td>\n",
       "      <td>45</td>\n",
       "      <td>4402.831543</td>\n",
       "      <td>23.733000</td>\n",
       "      <td>24.263039</td>\n",
       "      <td>648.299988</td>\n",
       "      <td>641.700012</td>\n",
       "      <td>21.885856</td>\n",
       "      <td>645.000000</td>\n",
       "    </tr>\n",
       "    <tr>\n",
       "      <th>419</th>\n",
       "      <td>72744</td>\n",
       "      <td>Plumas Elementary</td>\n",
       "      <td>Yuba</td>\n",
       "      <td>KK-08</td>\n",
       "      <td>101</td>\n",
       "      <td>5.000000</td>\n",
       "      <td>11.881200</td>\n",
       "      <td>59.405899</td>\n",
       "      <td>14</td>\n",
       "      <td>4776.336426</td>\n",
       "      <td>9.952000</td>\n",
       "      <td>2.970297</td>\n",
       "      <td>667.900024</td>\n",
       "      <td>676.500000</td>\n",
       "      <td>20.200000</td>\n",
       "      <td>672.200012</td>\n",
       "    </tr>\n",
       "    <tr>\n",
       "      <th>420</th>\n",
       "      <td>72751</td>\n",
       "      <td>Wheatland Elementary</td>\n",
       "      <td>Yuba</td>\n",
       "      <td>KK-08</td>\n",
       "      <td>1778</td>\n",
       "      <td>93.400002</td>\n",
       "      <td>6.923500</td>\n",
       "      <td>47.571201</td>\n",
       "      <td>313</td>\n",
       "      <td>5993.392578</td>\n",
       "      <td>12.502000</td>\n",
       "      <td>5.005624</td>\n",
       "      <td>660.500000</td>\n",
       "      <td>651.000000</td>\n",
       "      <td>19.036402</td>\n",
       "      <td>655.750000</td>\n",
       "    </tr>\n",
       "  </tbody>\n",
       "</table>\n",
       "<p>420 rows × 16 columns</p>\n",
       "</div>"
      ],
      "text/plain": [
       "     district                           school       county grades  students  \\\n",
       "1       75119               Sunol Glen Unified      Alameda  KK-08       195   \n",
       "2       61499             Manzanita Elementary        Butte  KK-08       240   \n",
       "3       61549      Thermalito Union Elementary        Butte  KK-08      1550   \n",
       "4       61457  Golden Feather Union Elementary        Butte  KK-08       243   \n",
       "5       61523         Palermo Union Elementary        Butte  KK-08      1335   \n",
       "..        ...                              ...          ...    ...       ...   \n",
       "416     68957           Las Lomitas Elementary    San Mateo  KK-08       984   \n",
       "417     69518             Los Altos Elementary  Santa Clara  KK-08      3724   \n",
       "418     72611           Somis Union Elementary      Ventura  KK-08       441   \n",
       "419     72744                Plumas Elementary         Yuba  KK-08       101   \n",
       "420     72751             Wheatland Elementary         Yuba  KK-08      1778   \n",
       "\n",
       "       teachers   calworks      lunch  computer  expenditure     income  \\\n",
       "1     10.900000   0.510200   2.040800        67  6384.911133  22.690001   \n",
       "2     11.150000  15.416700  47.916698       101  5099.380859   9.824000   \n",
       "3     82.900002  55.032299  76.322601       169  5501.954590   8.978000   \n",
       "4     14.000000  36.475399  77.049202        85  7101.831055   8.978000   \n",
       "5     71.500000  33.108601  78.427002       171  5235.987793   9.080333   \n",
       "..          ...        ...        ...       ...          ...        ...   \n",
       "416   59.730000   0.101600   3.556900       195  7290.338867  28.716999   \n",
       "417  208.479996   1.074100   1.503800       721  5741.462891  41.734108   \n",
       "418   20.150000   3.563500  37.193802        45  4402.831543  23.733000   \n",
       "419    5.000000  11.881200  59.405899        14  4776.336426   9.952000   \n",
       "420   93.400002   6.923500  47.571201       313  5993.392578  12.502000   \n",
       "\n",
       "       english        read        math    stratio       score  \n",
       "1     0.000000  691.599976  690.000000  17.889909  690.799988  \n",
       "2     4.583333  660.500000  661.900024  21.524664  661.200012  \n",
       "3    30.000002  636.299988  650.900024  18.697225  643.600006  \n",
       "4     0.000000  651.900024  643.500000  17.357143  647.700012  \n",
       "5    13.857677  641.799988  639.900024  18.671329  640.850006  \n",
       "..         ...         ...         ...        ...         ...  \n",
       "416   5.995935  700.900024  707.700012  16.474134  704.300018  \n",
       "417   4.726101  704.000000  709.500000  17.862625  706.750000  \n",
       "418  24.263039  648.299988  641.700012  21.885856  645.000000  \n",
       "419   2.970297  667.900024  676.500000  20.200000  672.200012  \n",
       "420   5.005624  660.500000  651.000000  19.036402  655.750000  \n",
       "\n",
       "[420 rows x 16 columns]"
      ]
     },
     "execution_count": 24,
     "metadata": {},
     "output_type": "execute_result"
    }
   ],
   "source": [
    "caschools_dat['stratio'] = caschools_dat['students']/caschools_dat['teachers']\n",
    "caschools_dat['score'] = (caschools_dat['read'] + caschools_dat['math'])/2\n",
    "\n",
    "caschools_dat"
   ]
  },
  {
   "cell_type": "markdown",
   "id": "5e45610a",
   "metadata": {},
   "source": [
    "## Run the SLR to predict score based on given student teacher ratio. "
   ]
  },
  {
   "cell_type": "code",
   "execution_count": 23,
   "id": "b0964a88",
   "metadata": {},
   "outputs": [
    {
     "data": {
      "text/html": [
       "<table class=\"simpletable\">\n",
       "<caption>OLS Regression Results</caption>\n",
       "<tr>\n",
       "  <th>Dep. Variable:</th>          <td>score</td>      <th>  R-squared:         </th> <td>   0.051</td>\n",
       "</tr>\n",
       "<tr>\n",
       "  <th>Model:</th>                   <td>OLS</td>       <th>  Adj. R-squared:    </th> <td>   0.049</td>\n",
       "</tr>\n",
       "<tr>\n",
       "  <th>Method:</th>             <td>Least Squares</td>  <th>  F-statistic:       </th> <td>   18.90</td>\n",
       "</tr>\n",
       "<tr>\n",
       "  <th>Date:</th>             <td>Fri, 19 Jul 2024</td> <th>  Prob (F-statistic):</th> <td>1.73e-05</td>\n",
       "</tr>\n",
       "<tr>\n",
       "  <th>Time:</th>                 <td>12:12:43</td>     <th>  Log-Likelihood:    </th> <td> -1822.2</td>\n",
       "</tr>\n",
       "<tr>\n",
       "  <th>No. Observations:</th>      <td>   420</td>      <th>  AIC:               </th> <td>   3648.</td>\n",
       "</tr>\n",
       "<tr>\n",
       "  <th>Df Residuals:</th>          <td>   418</td>      <th>  BIC:               </th> <td>   3657.</td>\n",
       "</tr>\n",
       "<tr>\n",
       "  <th>Df Model:</th>              <td>     1</td>      <th>                     </th>     <td> </td>   \n",
       "</tr>\n",
       "<tr>\n",
       "  <th>Covariance Type:</th>         <td>HC3</td>       <th>                     </th>     <td> </td>   \n",
       "</tr>\n",
       "</table>\n",
       "<table class=\"simpletable\">\n",
       "<tr>\n",
       "      <td></td>         <th>coef</th>     <th>std err</th>      <th>z</th>      <th>P>|z|</th>  <th>[0.025</th>    <th>0.975]</th>  \n",
       "</tr>\n",
       "<tr>\n",
       "  <th>Intercept</th> <td>  698.9329</td> <td>   10.461</td> <td>   66.816</td> <td> 0.000</td> <td>  678.431</td> <td>  719.435</td>\n",
       "</tr>\n",
       "<tr>\n",
       "  <th>stratio</th>   <td>   -2.2798</td> <td>    0.524</td> <td>   -4.348</td> <td> 0.000</td> <td>   -3.308</td> <td>   -1.252</td>\n",
       "</tr>\n",
       "</table>\n",
       "<table class=\"simpletable\">\n",
       "<tr>\n",
       "  <th>Omnibus:</th>       <td> 5.390</td> <th>  Durbin-Watson:     </th> <td>   0.129</td>\n",
       "</tr>\n",
       "<tr>\n",
       "  <th>Prob(Omnibus):</th> <td> 0.068</td> <th>  Jarque-Bera (JB):  </th> <td>   3.589</td>\n",
       "</tr>\n",
       "<tr>\n",
       "  <th>Skew:</th>          <td>-0.012</td> <th>  Prob(JB):          </th> <td>   0.166</td>\n",
       "</tr>\n",
       "<tr>\n",
       "  <th>Kurtosis:</th>      <td> 2.548</td> <th>  Cond. No.          </th> <td>    207.</td>\n",
       "</tr>\n",
       "</table><br/><br/>Notes:<br/>[1] Standard Errors are heteroscedasticity robust (HC3)"
      ],
      "text/plain": [
       "<class 'statsmodels.iolib.summary.Summary'>\n",
       "\"\"\"\n",
       "                            OLS Regression Results                            \n",
       "==============================================================================\n",
       "Dep. Variable:                  score   R-squared:                       0.051\n",
       "Model:                            OLS   Adj. R-squared:                  0.049\n",
       "Method:                 Least Squares   F-statistic:                     18.90\n",
       "Date:                Fri, 19 Jul 2024   Prob (F-statistic):           1.73e-05\n",
       "Time:                        12:12:43   Log-Likelihood:                -1822.2\n",
       "No. Observations:                 420   AIC:                             3648.\n",
       "Df Residuals:                     418   BIC:                             3657.\n",
       "Df Model:                           1                                         \n",
       "Covariance Type:                  HC3                                         \n",
       "==============================================================================\n",
       "                 coef    std err          z      P>|z|      [0.025      0.975]\n",
       "------------------------------------------------------------------------------\n",
       "Intercept    698.9329     10.461     66.816      0.000     678.431     719.435\n",
       "stratio       -2.2798      0.524     -4.348      0.000      -3.308      -1.252\n",
       "==============================================================================\n",
       "Omnibus:                        5.390   Durbin-Watson:                   0.129\n",
       "Prob(Omnibus):                  0.068   Jarque-Bera (JB):                3.589\n",
       "Skew:                          -0.012   Prob(JB):                        0.166\n",
       "Kurtosis:                       2.548   Cond. No.                         207.\n",
       "==============================================================================\n",
       "\n",
       "Notes:\n",
       "[1] Standard Errors are heteroscedasticity robust (HC3)\n",
       "\"\"\""
      ]
     },
     "execution_count": 23,
     "metadata": {},
     "output_type": "execute_result"
    }
   ],
   "source": [
    "slm_mod = smf.ols('score ~ stratio', data = caschools_dat).fit(cov_type = 'HC3')\n",
    "\n",
    "slm_mod.summary()"
   ]
  },
  {
   "cell_type": "markdown",
   "id": "e8a7dc15",
   "metadata": {},
   "source": [
    "## Equation"
   ]
  },
  {
   "cell_type": "markdown",
   "id": "563ea9bb",
   "metadata": {},
   "source": [
    "* score = 698.9329 - -2.27*stratio"
   ]
  },
  {
   "cell_type": "code",
   "execution_count": 16,
   "id": "a0a7a673",
   "metadata": {},
   "outputs": [],
   "source": [
    "caschools_dat_sorted = caschools_dat.sort_values(['stratio'])"
   ]
  },
  {
   "cell_type": "markdown",
   "id": "2a8365a2",
   "metadata": {},
   "source": [
    "## Plot the student teacher ratio and score"
   ]
  },
  {
   "cell_type": "code",
   "execution_count": 20,
   "id": "6f3ae60e",
   "metadata": {},
   "outputs": [
    {
     "data": {
      "text/plain": [
       "<Axes: xlabel='stratio'>"
      ]
     },
     "execution_count": 20,
     "metadata": {},
     "output_type": "execute_result"
    },
    {
     "data": {
      "image/png": "[encoded data removed]",
      "text/plain": [
       "<Figure size 432x288 with 1 Axes>"
      ]
     },
     "metadata": {
      "needs_background": "light"
     },
     "output_type": "display_data"
    }
   ],
   "source": [
    "#plt.figure(figsize=(20, 15))\n",
    "caschools_dat_sorted.plot(x='stratio', y = 'score', label = 'Impact of Student Teacher Ratio')\n"
   ]
  },
  {
   "cell_type": "markdown",
   "id": "f8bdcf82",
   "metadata": {},
   "source": [
    "If you observe the figure you can clearly see that if the Student Teacher ratio increases from 22 the score of the students starts reducing. "
   ]
  },
  {
   "cell_type": "markdown",
   "id": "332e0332",
   "metadata": {},
   "source": [
    "## Predict the results"
   ]
  },
  {
   "cell_type": "code",
   "execution_count": 28,
   "id": "f1319c09",
   "metadata": {},
   "outputs": [
    {
     "data": {
      "text/plain": [
       "648.9929"
      ]
     },
     "execution_count": 28,
     "metadata": {},
     "output_type": "execute_result"
    }
   ],
   "source": [
    "## Let's say district 61499 maintained a ratio of 22, what will the predicted score ?\n",
    "\n",
    "score = 698.9329 - (2.27*22)\n"
   ]
  },
  {
   "cell_type": "markdown",
   "id": "22677777",
   "metadata": {},
   "source": [
    "The predicted score of a school having student teacher ratio as 22 will be around 649."
   ]
  },
  {
   "cell_type": "markdown",
   "id": "d11aeb18",
   "metadata": {},
   "source": [
    "## Build confidence around it"
   ]
  },
  {
   "cell_type": "markdown",
   "id": "b14c1292",
   "metadata": {},
   "source": [
    "How can we say the score will be 649 only, given student teacher ratio as 22. To build confidence around this uncertainity we will see the confidence interval from the equation.  "
   ]
  },
  {
   "cell_type": "markdown",
   "id": "7d0f34c1",
   "metadata": {},
   "source": [
    "## Equations of the lower confidence interval and upper confidence interval"
   ]
  },
  {
   "cell_type": "markdown",
   "id": "a246e8fe",
   "metadata": {},
   "source": [
    "\n",
    "* <font color='blue'>  score = 678.431 - 3.308*stratio </font>\n",
    "\n",
    "* <font color='blue'> score = 719.435 - 1.252*stratio </font>"
   ]
  },
  {
   "cell_type": "code",
   "execution_count": 29,
   "id": "e6353e8c",
   "metadata": {},
   "outputs": [],
   "source": [
    "score_lower = 678.431 - 3.308*22\n",
    "score_upper = 719.435 - 1.252*22"
   ]
  },
  {
   "cell_type": "code",
   "execution_count": 33,
   "id": "16921c4e",
   "metadata": {},
   "outputs": [
    {
     "name": "stdout",
     "output_type": "stream",
     "text": [
      "Confidence Level: [ 605.66 - 691.89 ]\n"
     ]
    }
   ],
   "source": [
    "print(\"Confidence Level: [\", np.round(score_lower, 2), \"-\",np.round(score_upper, 2), ']')"
   ]
  },
  {
   "cell_type": "markdown",
   "id": "d8f0b2ee",
   "metadata": {},
   "source": [
    "Thus, the average score will be in between 605.66 - 691.89, if student teacher ratio is maintained at 22. "
   ]
  },
  {
   "cell_type": "markdown",
   "id": "80741f11",
   "metadata": {},
   "source": [
    "## Multi-Linear Regression"
   ]
  },
  {
   "cell_type": "markdown",
   "id": "11e6456a",
   "metadata": {},
   "source": [
    "Is student teacher ratio only thing that affects score of a school? \n",
    "* Are there any other variables?\n",
    "* What about % of english learners, income of the district?"
   ]
  },
  {
   "cell_type": "code",
   "execution_count": 40,
   "id": "e99db8e7",
   "metadata": {},
   "outputs": [
    {
     "data": {
      "text/html": [
       "<table class=\"simpletable\">\n",
       "<caption>OLS Regression Results</caption>\n",
       "<tr>\n",
       "  <th>Dep. Variable:</th>          <td>score</td>      <th>  R-squared:         </th> <td>   0.511</td>\n",
       "</tr>\n",
       "<tr>\n",
       "  <th>Model:</th>                   <td>OLS</td>       <th>  Adj. R-squared:    </th> <td>   0.509</td>\n",
       "</tr>\n",
       "<tr>\n",
       "  <th>Method:</th>             <td>Least Squares</td>  <th>  F-statistic:       </th> <td>   121.3</td>\n",
       "</tr>\n",
       "<tr>\n",
       "  <th>Date:</th>             <td>Fri, 19 Jul 2024</td> <th>  Prob (F-statistic):</th> <td>3.02e-42</td>\n",
       "</tr>\n",
       "<tr>\n",
       "  <th>Time:</th>                 <td>14:58:13</td>     <th>  Log-Likelihood:    </th> <td> -1682.9</td>\n",
       "</tr>\n",
       "<tr>\n",
       "  <th>No. Observations:</th>      <td>   420</td>      <th>  AIC:               </th> <td>   3372.</td>\n",
       "</tr>\n",
       "<tr>\n",
       "  <th>Df Residuals:</th>          <td>   417</td>      <th>  BIC:               </th> <td>   3384.</td>\n",
       "</tr>\n",
       "<tr>\n",
       "  <th>Df Model:</th>              <td>     2</td>      <th>                     </th>     <td> </td>   \n",
       "</tr>\n",
       "<tr>\n",
       "  <th>Covariance Type:</th>         <td>HC3</td>       <th>                     </th>     <td> </td>   \n",
       "</tr>\n",
       "</table>\n",
       "<table class=\"simpletable\">\n",
       "<tr>\n",
       "      <td></td>         <th>coef</th>     <th>std err</th>      <th>z</th>      <th>P>|z|</th>  <th>[0.025</th>    <th>0.975]</th>  \n",
       "</tr>\n",
       "<tr>\n",
       "  <th>Intercept</th> <td>  638.7292</td> <td>    7.374</td> <td>   86.615</td> <td> 0.000</td> <td>  624.276</td> <td>  653.183</td>\n",
       "</tr>\n",
       "<tr>\n",
       "  <th>stratio</th>   <td>   -0.6487</td> <td>    0.357</td> <td>   -1.817</td> <td> 0.069</td> <td>   -1.349</td> <td>    0.051</td>\n",
       "</tr>\n",
       "<tr>\n",
       "  <th>income</th>    <td>    1.8391</td> <td>    0.120</td> <td>   15.349</td> <td> 0.000</td> <td>    1.604</td> <td>    2.074</td>\n",
       "</tr>\n",
       "</table>\n",
       "<table class=\"simpletable\">\n",
       "<tr>\n",
       "  <th>Omnibus:</th>       <td> 2.579</td> <th>  Durbin-Watson:     </th> <td>   0.643</td>\n",
       "</tr>\n",
       "<tr>\n",
       "  <th>Prob(Omnibus):</th> <td> 0.275</td> <th>  Jarque-Bera (JB):  </th> <td>   2.583</td>\n",
       "</tr>\n",
       "<tr>\n",
       "  <th>Skew:</th>          <td>-0.152</td> <th>  Prob(JB):          </th> <td>   0.275</td>\n",
       "</tr>\n",
       "<tr>\n",
       "  <th>Kurtosis:</th>      <td> 2.765</td> <th>  Cond. No.          </th> <td>    290.</td>\n",
       "</tr>\n",
       "</table><br/><br/>Notes:<br/>[1] Standard Errors are heteroscedasticity robust (HC3)"
      ],
      "text/plain": [
       "<class 'statsmodels.iolib.summary.Summary'>\n",
       "\"\"\"\n",
       "                            OLS Regression Results                            \n",
       "==============================================================================\n",
       "Dep. Variable:                  score   R-squared:                       0.511\n",
       "Model:                            OLS   Adj. R-squared:                  0.509\n",
       "Method:                 Least Squares   F-statistic:                     121.3\n",
       "Date:                Fri, 19 Jul 2024   Prob (F-statistic):           3.02e-42\n",
       "Time:                        14:58:13   Log-Likelihood:                -1682.9\n",
       "No. Observations:                 420   AIC:                             3372.\n",
       "Df Residuals:                     417   BIC:                             3384.\n",
       "Df Model:                           2                                         \n",
       "Covariance Type:                  HC3                                         \n",
       "==============================================================================\n",
       "                 coef    std err          z      P>|z|      [0.025      0.975]\n",
       "------------------------------------------------------------------------------\n",
       "Intercept    638.7292      7.374     86.615      0.000     624.276     653.183\n",
       "stratio       -0.6487      0.357     -1.817      0.069      -1.349       0.051\n",
       "income         1.8391      0.120     15.349      0.000       1.604       2.074\n",
       "==============================================================================\n",
       "Omnibus:                        2.579   Durbin-Watson:                   0.643\n",
       "Prob(Omnibus):                  0.275   Jarque-Bera (JB):                2.583\n",
       "Skew:                          -0.152   Prob(JB):                        0.275\n",
       "Kurtosis:                       2.765   Cond. No.                         290.\n",
       "==============================================================================\n",
       "\n",
       "Notes:\n",
       "[1] Standard Errors are heteroscedasticity robust (HC3)\n",
       "\"\"\""
      ]
     },
     "execution_count": 40,
     "metadata": {},
     "output_type": "execute_result"
    }
   ],
   "source": [
    "reg_mod = smf.ols('score ~ stratio + income', data = caschools_dat).fit(cov_type = 'HC3')\n",
    "\n",
    "reg_mod.summary()"
   ]
  },
  {
   "cell_type": "markdown",
   "id": "7aede0ae",
   "metadata": {},
   "source": [
    "## The new equation"
   ]
  },
  {
   "cell_type": "markdown",
   "id": "eeeb16fe",
   "metadata": {},
   "source": [
    "score = 638.729 - 0.6487*stratio + 1.8391*income"
   ]
  },
  {
   "cell_type": "code",
   "execution_count": 41,
   "id": "d938e00c",
   "metadata": {},
   "outputs": [],
   "source": [
    "stratio = 22\n",
    "income = 10.000"
   ]
  },
  {
   "cell_type": "code",
   "execution_count": 42,
   "id": "559ca011",
   "metadata": {},
   "outputs": [
    {
     "data": {
      "text/plain": [
       "642.8486"
      ]
     },
     "execution_count": 42,
     "metadata": {},
     "output_type": "execute_result"
    }
   ],
   "source": [
    "score = 638.729 - 0.6487*stratio + 1.8391*income\n",
    "score"
   ]
  },
  {
   "cell_type": "markdown",
   "id": "03806563",
   "metadata": {},
   "source": [
    "## Equations of the lower confidence interval and upper confidence interval"
   ]
  },
  {
   "cell_type": "markdown",
   "id": "39e3c6e3",
   "metadata": {},
   "source": [
    "\n",
    "* <font color='blue'>  score = 624.276 - 1.349* stratio + 0.051*income </font>\n",
    "\n",
    "* <font color='blue'> score = 653.183 - 1.604* stratio + 2.074*income </font>"
   ]
  },
  {
   "cell_type": "code",
   "execution_count": 43,
   "id": "46c8f58b",
   "metadata": {},
   "outputs": [],
   "source": [
    "score_lower = 624.276 - 1.349* stratio + 0.051*income\n",
    "score_upper = 653.183 - 1.604* stratio + 2.074*income"
   ]
  },
  {
   "cell_type": "code",
   "execution_count": 44,
   "id": "4472b65f",
   "metadata": {},
   "outputs": [
    {
     "name": "stdout",
     "output_type": "stream",
     "text": [
      "Confidence Level: [ 595.11 - 638.64 ]\n"
     ]
    }
   ],
   "source": [
    "print(\"Confidence Level: [\", np.round(score_lower, 2), \"-\",np.round(score_upper, 2), ']')"
   ]
  },
  {
   "cell_type": "code",
   "execution_count": null,
   "id": "958ea3fb",
   "metadata": {},
   "outputs": [],
   "source": []
  }
 ],
 "metadata": {
  "kernelspec": {
   "display_name": "Python 3 (ipykernel)",
   "language": "python",
   "name": "python3"
  },
  "language_info": {
   "codemirror_mode": {
    "name": "ipython",
    "version": 3
   },
   "file_extension": ".py",
   "mimetype": "text/x-python",
   "name": "python",
   "nbconvert_exporter": "python",
   "pygments_lexer": "ipython3",
   "version": "3.8.5"
  }
 },
 "nbformat": 4,
 "nbformat_minor": 5
}
